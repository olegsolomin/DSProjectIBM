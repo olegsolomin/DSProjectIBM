{
 "cells": [
  {
   "cell_type": "markdown",
   "metadata": {},
   "source": [
    "# Capstone Part 1: IBM Datascience"
   ]
  },
  {
   "cell_type": "markdown",
   "metadata": {},
   "source": [
    "## Oleg Solomin\n",
    "## May 2020"
   ]
  },
  {
   "cell_type": "markdown",
   "metadata": {},
   "source": [
    "## ISSUE: Moving from Toronto to New York\n",
    "The contractor is deciding to move from Toronto to New York and to start own business.\n",
    "He sold his `barber shop` in financial district of Toronto and is going to make a fortune in Manhattan.\n",
    "He expects that in New York it would be tough environment because of  rivals pressure and high-demanding public.\n",
    "Anyway the contractor has a positive experience and full of bright ideas. The only one thing is beyond his scope is `Big Data`."
   ]
  },
  {
   "cell_type": "markdown",
   "metadata": {},
   "source": [
    "Having some experience in Big Data analysis it’s appropriate to offer a model which helps to answer on the following questions:\n",
    " - Are financial districts  similar in two cities?\n",
    " - Are barbershops popular?\n",
    " - Where on Manhattan will be the best location?"
   ]
  },
  {
   "cell_type": "markdown",
   "metadata": {},
   "source": [
    "Even without a thorough investigation it is obvious that we will face up a **challenge**: \n",
    "\n",
    "* location in some distance from known venues with an idea that `less rivals-more clients`\n",
    "* location in close distance to known venues in a hope that `more venues-more clients`"
   ]
  },
  {
   "cell_type": "markdown",
   "metadata": {},
   "source": [
    "## Data"
   ]
  },
  {
   "cell_type": "markdown",
   "metadata": {},
   "source": [
    "The investigation will be based on the following data, including features selection and examples.\n",
    "\n",
    "`Detailed data section will be in next file.`"
   ]
  },
  {
   "cell_type": "markdown",
   "metadata": {},
   "source": [
    "### GEODATA"
   ]
  },
  {
   "cell_type": "markdown",
   "metadata": {},
   "source": [
    "First of all we need a geodata which can help to locate and then to explore neighborhoods of Toronto and New York.\n",
    "As for *New York* we can get dataset on the following link: 'https://geo.nyu.edu/catalog/nyu_2451_34572'.\n",
    "\n",
    "Dealing with *Toronto* data is a little more complicated. \n",
    "For the Toronto neighborhood data, a Wikipedia page exists that has all the information we need to explore and cluster the neighborhoods in Toronto. \n",
    "Wikipedia page 'https://en.wikipedia.org/wiki/List_of_postal_codes_of_Canada:_M'\n",
    "\n",
    "Besides scrapping web page which gives only names of the Toronto’s neighborhoods and postal codes dataframe preparation will include getting geographical coordinates according to postal codes.\n",
    "\n",
    "At the end of preparation and cleaning geo-data-frame we get a following features that helps us \n",
    "on the next stage - neighborhood exploration.\n",
    "So final neighborhood Pandas data frame will consists of the following features:  \n",
    "* ‘Borough', \n",
    "* 'Neighborhood', \n",
    "* 'Latitude', \n",
    "* ‘Longitude'\n",
    "\n",
    "First two are in string format and others numeric.\n"
   ]
  },
  {
   "cell_type": "markdown",
   "metadata": {},
   "source": [
    "*Example*"
   ]
  },
  {
   "cell_type": "markdown",
   "metadata": {},
   "source": [
    "|Borough|Neighborhood|Latitude |Longitude |\n",
    "|-------|------------|---------|----------|\n",
    "|Bronx  |Wakefield   |40.894705|-73.847201|\n",
    "|Bronx  |Riverdale   |40.890834|-73.912585|\n"
   ]
  },
  {
   "cell_type": "markdown",
   "metadata": {},
   "source": [
    "## Exploration: Adding Foursquare data"
   ]
  },
  {
   "cell_type": "markdown",
   "metadata": {},
   "source": [
    "In this section we will use the `Foursquare API` to explore neighborhoods in New York City and Toronto. We will use the explore function to get the common venue categories in each neighborhood, and then use this feature to group the neighborhoods into clusters. \n",
    "At this stage we need to make some assumptions in order to specify our investigation:\n",
    "* narrow down an area of investigation by financial districts\n",
    "* setting up limit of venues by 100\n",
    "* and radius of 1000 meters \n",
    "\n",
    "It helps us to build a solid base for exploratory analysis section."
   ]
  },
  {
   "cell_type": "markdown",
   "metadata": {},
   "source": [
    "## Exploratory analysis"
   ]
  },
  {
   "cell_type": "markdown",
   "metadata": {},
   "source": [
    "Besides Pandas technic we will use a powerful visualization library - Folium. It helps to not only visualize and explore map of the neighborhoods but leads to better understanding of the problem.\n",
    "\n",
    "*Example*"
   ]
  },
  {
   "cell_type": "markdown",
   "metadata": {},
   "source": [
    "<img src= \"foliumExample.jpg\">"
   ]
  },
  {
   "cell_type": "code",
   "execution_count": null,
   "metadata": {},
   "outputs": [],
   "source": []
  }
 ],
 "metadata": {
  "kernelspec": {
   "display_name": "Python 3",
   "language": "python",
   "name": "python3"
  },
  "language_info": {
   "codemirror_mode": {
    "name": "ipython",
    "version": 3
   },
   "file_extension": ".py",
   "mimetype": "text/x-python",
   "name": "python",
   "nbconvert_exporter": "python",
   "pygments_lexer": "ipython3",
   "version": "3.7.7"
  }
 },
 "nbformat": 4,
 "nbformat_minor": 4
}
